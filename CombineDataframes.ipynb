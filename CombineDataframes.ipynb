{
 "cells": [
  {
   "cell_type": "code",
   "execution_count": 1,
   "id": "253d16e8",
   "metadata": {},
   "outputs": [],
   "source": [
    "import pickle\n",
    "import pandas as pd"
   ]
  },
  {
   "cell_type": "code",
   "execution_count": 23,
   "id": "f23c8208",
   "metadata": {},
   "outputs": [],
   "source": [
    "output_file_name = 'Data/AllCalibrations.pkl'\n",
    "\n",
    "input_file_name = 'Data/calibration0145.pkl'\n",
    "\n",
    "with open(input_file_name, 'rb') as file:\n",
    "    dataframes_dict1 = pickle.load(file)\n",
    "    \n",
    "input_file_name = 'Data/calibration2367.pkl'\n",
    "\n",
    "with open(input_file_name, 'rb') as file:\n",
    "    dataframes_dict2 = pickle.load(file)\n",
    "\n",
    "input_file_name = 'Data/calibration10111415.pkl'\n",
    "\n",
    "with open(input_file_name, 'rb') as file:\n",
    "    dataframes_dict3 = pickle.load(file)\n",
    "    \n",
    "    \n",
    "input_file_name = 'Data/calibration891213.pkl'\n",
    "\n",
    "with open(input_file_name, 'rb') as file:\n",
    "    dataframes_dict4 = pickle.load(file)\n",
    "    \n",
    "    \n",
    "input_file_name = 'Data/calibration56910.pkl'\n",
    "\n",
    "with open(input_file_name, 'rb') as file:\n",
    "    dataframes_dict5 = pickle.load(file)"
   ]
  },
  {
   "cell_type": "code",
   "execution_count": 24,
   "id": "aa1fc389",
   "metadata": {},
   "outputs": [],
   "source": [
    "dict_list = [dataframes_dict1, dataframes_dict2, dataframes_dict3, dataframes_dict4, dataframes_dict5]\n",
    "\n",
    "# Initialize an empty dictionary to store the combined dataframes\n",
    "combined_dataframes_dict = {}\n",
    "\n",
    "# Iterate through the keys of the dictionaries\n",
    "for key in dataframes_dict1.keys():\n",
    "    # Concatenate the dataframes for the current key from each dictionary\n",
    "\n",
    "    combined_dataframes_dict[key] = pd.concat([d[key] for d in dict_list], ignore_index=True)"
   ]
  },
  {
   "cell_type": "code",
   "execution_count": 25,
   "id": "c3d87fb3",
   "metadata": {},
   "outputs": [],
   "source": [
    "with open(output_file_name, 'wb') as file:\n",
    "    pickle.dump(combined_dataframes_dict, file)"
   ]
  },
  {
   "cell_type": "code",
   "execution_count": null,
   "id": "86c0a339",
   "metadata": {},
   "outputs": [],
   "source": []
  }
 ],
 "metadata": {
  "kernelspec": {
   "display_name": "Python 3",
   "language": "python",
   "name": "python3"
  },
  "language_info": {
   "codemirror_mode": {
    "name": "ipython",
    "version": 3
   },
   "file_extension": ".py",
   "mimetype": "text/x-python",
   "name": "python",
   "nbconvert_exporter": "python",
   "pygments_lexer": "ipython3",
   "version": "3.7.6"
  }
 },
 "nbformat": 4,
 "nbformat_minor": 5
}
