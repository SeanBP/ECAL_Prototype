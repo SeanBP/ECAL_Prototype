{
 "cells": [
  {
   "cell_type": "code",
   "execution_count": 167,
   "metadata": {},
   "outputs": [],
   "source": [
    "import numpy as np\n",
    "import pickle\n",
    "import time\n",
    "from collections import Counter\n",
    "import pandas as pd\n",
    "import matplotlib.pyplot as plt\n",
    "import mplhep as hep"
   ]
  },
  {
   "cell_type": "code",
   "execution_count": 243,
   "metadata": {},
   "outputs": [],
   "source": [
    "input_file_name = 'FNAL2024/WScFi10GeV28degrees.txt'\n",
    "output_file_name = 'Data/WScFi10GeV28degreesraw.pkl'\n",
    "output_file_name_ped = 'Data/WScFi10GeV28degreesped.pkl'"
   ]
  },
  {
   "cell_type": "code",
   "execution_count": 244,
   "metadata": {},
   "outputs": [
    {
     "name": "stdout",
     "output_type": "stream",
     "text": [
      "257\n"
     ]
    },
    {
     "data": {
      "text/plain": [
       "<ErrorbarContainer object of 3 artists>"
      ]
     },
     "execution_count": 244,
     "metadata": {},
     "output_type": "execute_result"
    },
    {
     "data": {
      "image/png": "[encoded data removed]",
      "text/plain": [
       "<Figure size 432x288 with 1 Axes>"
      ]
     },
     "metadata": {
      "needs_background": "light"
     },
     "output_type": "display_data"
    }
   ],
   "source": [
    "# Read the text file\n",
    "df = pd.read_csv(input_file_name, delimiter='\\t', header=None)\n",
    "\n",
    "# Assign column names\n",
    "column_names = ['event_id'] + [f'ch_{i-1}' for i in range(1, len(df.columns))]\n",
    "df.columns = column_names\n",
    "\n",
    "# Split dataframe into different detectors\n",
    "\n",
    "sc1_df = df[['event_id', 'ch_32']]\n",
    "sc2_df = df[['event_id', 'ch_40']]#\n",
    "mon_df = df[['event_id', 'ch_33']]#\n",
    "pbg_df = df[['event_id', 'ch_34']]\n",
    "ce1_df = df[['event_id', 'ch_35']]#\n",
    "ce2_df = df[['event_id', 'ch_37']]\n",
    "veto1_df = df[['event_id', 'ch_38']]#\n",
    "veto2_df = df[['event_id', 'ch_39']]#\n",
    "\n",
    "# Define channel lists based on C script configuration\n",
    "HCalChannelList = list(range(16))\n",
    "ECalChannelList = [i + 16 for i in range(16)]\n",
    "HodChannelList = [i + 48 for i in range(16)]\n",
    "\n",
    "# Split dataframe into different detectors using the channel lists\n",
    "hcal_df = df[['event_id'] + [f'ch_{i}' for i in HCalChannelList]]\n",
    "ecal_df = df[['event_id'] + [f'ch_{i}' for i in ECalChannelList]]\n",
    "hod_df = df[['event_id'] + [f'ch_{i}' for i in HodChannelList]]\n",
    "\n",
    "# Combine dataframes into a dictionary\n",
    "dataframes_dict = {\n",
    "    'hcal_df': hcal_df,\n",
    "    'ecal_df': ecal_df,\n",
    "    'sc1_df': sc1_df,\n",
    "    'sc2_df': sc2_df,\n",
    "    'pbg_df': pbg_df,\n",
    "    'mon_df': mon_df,\n",
    "    'ce1_df': ce1_df,\n",
    "    'ce2_df': ce2_df,\n",
    "    'veto1_df': veto1_df,\n",
    "    'veto2_df': veto2_df,\n",
    "    'hod_df': hod_df\n",
    "}\n",
    "\n",
    "# Identify indices to remove\n",
    "indices_to_remove = set()\n",
    "\n",
    "# Iterate through each dataframe and find indices with value 5632 or 16384\n",
    "for df_key, df in dataframes_dict.items():\n",
    "    for col in df.columns:\n",
    "        if col != 'event_id':\n",
    "            indices_to_remove.update(df[(df[col] == 5632) | (df[col] == 16384)].index)\n",
    "\n",
    "# Remove identified indices from all dataframes\n",
    "for df_key in dataframes_dict:\n",
    "    dataframes_dict[df_key] = dataframes_dict[df_key].drop(indices_to_remove).reset_index(drop=True)\n",
    "print(len(indices_to_remove))\n",
    "\n",
    "h, bins = np.histogram(dataframes_dict['sc1_df'], bins=100, range=(0, 2000))\n",
    "bin_centers = 0.5 * (bins[:-1] + bins[1:])\n",
    "errors = np.sqrt(h)\n",
    "plt.errorbar(bin_centers, h, yerr=errors, fmt='o', ecolor='tab:blue', color='tab:blue',\n",
    "                      capsize=0, elinewidth=1, markeredgewidth=0)"
   ]
  },
  {
   "cell_type": "code",
   "execution_count": 245,
   "metadata": {},
   "outputs": [],
   "source": [
    "cutoff = 500\n",
    "\n",
    "\n",
    "pedestals_dict = dataframes_dict.copy()\n",
    "indices_to_remove = set()\n",
    "for df_key, df in pedestals_dict.items():\n",
    "    for col in df.columns:\n",
    "        if col == 'ch_32':\n",
    "            indices_to_remove.update(df[(df[col] >= cutoff)].index)\n",
    "for df_key in pedestals_dict:\n",
    "    pedestals_dict[df_key] = pedestals_dict[df_key].drop(indices_to_remove).reset_index(drop=True)\n",
    "# Save dictionary as pickle file\n",
    "\n",
    "with open(output_file_name_ped, 'wb') as file:\n",
    "    pickle.dump(pedestals_dict, file)\n",
    "    \n",
    "    \n",
    "\n",
    "indices_to_remove = set()\n",
    "for df_key, df in dataframes_dict.items():\n",
    "    for col in df.columns:\n",
    "        if col == 'ch_32':\n",
    "            indices_to_remove.update(df[(df[col] < cutoff)].index)\n",
    "for df_key in dataframes_dict:\n",
    "    dataframes_dict[df_key] = dataframes_dict[df_key].drop(indices_to_remove).reset_index(drop=True)\n",
    "# Save dictionary as pickle file\n",
    "\n",
    "with open(output_file_name, 'wb') as file:\n",
    "    pickle.dump(dataframes_dict, file)"
   ]
  },
  {
   "cell_type": "code",
   "execution_count": null,
   "metadata": {},
   "outputs": [],
   "source": []
  },
  {
   "cell_type": "code",
   "execution_count": null,
   "metadata": {},
   "outputs": [],
   "source": []
  }
 ],
 "metadata": {
  "kernelspec": {
   "display_name": "Python 3",
   "language": "python",
   "name": "python3"
  },
  "language_info": {
   "codemirror_mode": {
    "name": "ipython",
    "version": 3
   },
   "file_extension": ".py",
   "mimetype": "text/x-python",
   "name": "python",
   "nbconvert_exporter": "python",
   "pygments_lexer": "ipython3",
   "version": "3.7.6"
  }
 },
 "nbformat": 4,
 "nbformat_minor": 4
}
